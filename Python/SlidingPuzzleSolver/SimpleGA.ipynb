{
 "cells": [
  {
   "cell_type": "code",
   "execution_count": 1,
   "metadata": {},
   "outputs": [],
   "source": [
    "import random\n",
    "puzzle1 = [\n",
    "\t[4,1,3],\n",
    "\t[2,8,0],\n",
    "\t[7,6,5]\n",
    "]\n",
    "puzzle2 = [\n",
    "\t[10, 3, 6, 4],\n",
    "\t[ 1, 5, 8, 0],\n",
    "\t[ 2,13, 7,15],\n",
    "\t[14, 9,12,11]\n",
    "]\n",
    "puzzle3 = [\n",
    "\t[ 3, 7,14,15,10],\n",
    "\t[ 1, 0, 5, 9, 4],\n",
    "\t[16, 2,11,12, 8],\n",
    "\t[17, 6,13,18,20],\n",
    "\t[21,22,23,19,24]\n",
    "]\n",
    "\n",
    "UP, DOWN = 0, 1\n",
    "LEFT, RIGHT = 2, 3\n",
    "END = 5\n",
    "MOVE_TYPES = [LEFT,RIGHT,UP,DOWN,END]"
   ]
  },
  {
   "cell_type": "code",
   "execution_count": 2,
   "metadata": {},
   "outputs": [
    {
     "name": "stdout",
     "output_type": "stream",
     "text": [
      "Expected fitness of 8, got 8\n",
      "Expected fitness of 8, got 8\n",
      "Expected fitness of 3, got 3\n"
     ]
    }
   ],
   "source": [
    "def getGridFitness(grid):\n",
    "    lastNumber = 0\n",
    "    n = len(grid)\n",
    "    for row in range(n):\n",
    "        for col in range(n):\n",
    "            num = grid[row][col]\n",
    "            #Empty tile doesn't affect fitness\n",
    "            if(num == 0):\n",
    "                continue\n",
    "            #Fitness search ends when a mismatch is found\n",
    "            if(lastNumber+1 != num):\n",
    "                return lastNumber\n",
    "            lastNumber = num\n",
    "    #This is a winning solution\n",
    "    return lastNumber\n",
    "solvedPuzzle1 = [[1,2,3],[4,5,6],[7,8,0]]\n",
    "print(\"Expected fitness of 8, got\", getGridFitness(solvedPuzzle1))\n",
    "solvedPuzzle2 = [[1,2,3],[4,5,6],[7,0,8]]\n",
    "print(\"Expected fitness of 8, got\", getGridFitness(solvedPuzzle2))\n",
    "first3Correct = [[1,2,3],[8,8,8],[8,8,8]]\n",
    "print(\"Expected fitness of 3, got\", getGridFitness(first3Correct))"
   ]
  },
  {
   "cell_type": "code",
   "execution_count": 3,
   "metadata": {},
   "outputs": [
    {
     "name": "stdout",
     "output_type": "stream",
     "text": [
      "([[2, 3, 6], [1, 5, 8], [4, 7, 0]], 2, 2)\n"
     ]
    }
   ],
   "source": [
    "def applyMoves(grid, startRow, startCol, moves):\n",
    "    '''\n",
    "    Avoid refinding the 0 by only looking once, and then providing it going forward.\n",
    "    '''    \n",
    "    row = startRow\n",
    "    col = startCol\n",
    "    if(grid[row][col] != 0):\n",
    "        raise Exception(\"FUCKER\")\n",
    "    n = len(grid)\n",
    "    for move in moves:\n",
    "        if(move == END):\n",
    "            return grid, row, col\n",
    "        if(move == LEFT and col > 0):\n",
    "            grid[row][col-1], grid[row][col] = grid[row][col], grid[row][col-1]\n",
    "            col -= 1\n",
    "            continue \n",
    "        if(move == RIGHT and col < n-1):\n",
    "            grid[row][col+1], grid[row][col] = grid[row][col], grid[row][col+1]\n",
    "            col += 1\n",
    "            continue  \n",
    "        if(move == UP and row > 0):\n",
    "            grid[row-1][col], grid[row][col] = grid[row][col], grid[row-1][col]\n",
    "            row -= 1\n",
    "            continue \n",
    "        if(move == DOWN and row < n-1):\n",
    "            grid[row+1][col], grid[row][col] = grid[row][col], grid[row+1][col]\n",
    "            row += 1\n",
    "            continue  \n",
    "        #getting here the moves are invalid\n",
    "        break\n",
    "    return grid, row, col\n",
    "print(applyMoves([[1,2,3],[4,5,6],[7,8,0]],2,2,[LEFT,LEFT,UP,UP,RIGHT,RIGHT,DOWN, DOWN]))\n",
    "#expect [[2, 3, 6], [1, 5, 8], [4, 7, 0]]"
   ]
  },
  {
   "cell_type": "code",
   "execution_count": 4,
   "metadata": {},
   "outputs": [
    {
     "data": {
      "text/plain": [
       "([[1, 2, 3], [4, 0, 5], [7, 8, 6]], 1, 1)"
      ]
     },
     "execution_count": 4,
     "metadata": {},
     "output_type": "execute_result"
    }
   ],
   "source": [
    "def revertGrid(grid, startRow, startCol, moves):\n",
    "    '''\n",
    "    Is it always faster to reverse a series of moves, than \n",
    "    to simply clone the original grid? It depends on the length of the \n",
    "    average solution relative to n\n",
    "    '''\n",
    "    reverseMoves = []\n",
    "    for move in moves:\n",
    "        if(move == END):\n",
    "            break\n",
    "        reverseMoves.append(move)\n",
    "    return applyMoves(grid, startRow, startCol, reverseMoves[::-1])\n",
    "revertGrid([[1,2,3],[4,5,6],[7,8,0]],2,2,[LEFT, UP, RIGHT, LEFT, END, LEFT])\n",
    "#expect [[1, 2, 3], [4, 0, 5], [7, 8, 6]]"
   ]
  },
  {
   "cell_type": "code",
   "execution_count": 5,
   "metadata": {},
   "outputs": [],
   "source": [
    "def mutateMoveList(moves, mutationChance = 0.05):\n",
    "    #No mutation\n",
    "    if(random.random() > mutationChance):\n",
    "        return\n",
    "    mutate_index = random.randint(0, len(moves)-1)\n",
    "    moves[mutate_index] = MOVE_TYPES[random.randint(0, 4)]\n",
    "        \n",
    "ms = [0,1]\n",
    "mutateMoveList(ms,1.0)"
   ]
  },
  {
   "cell_type": "code",
   "execution_count": 6,
   "metadata": {},
   "outputs": [],
   "source": [
    "def crossoverMoves(moveSet1, moveSet2):\n",
    "    i = random.randint(0, len(moveSet1)-1)\n",
    "    return moveSet1[:i]+moveSet2[i:], moveSet2[:i]+moveSet1[i:]"
   ]
  },
  {
   "cell_type": "code",
   "execution_count": 7,
   "metadata": {},
   "outputs": [
    {
     "data": {
      "text/plain": [
       "[[1, 0, 0, 0, 5, 2, 3, 2, 5, 1, 1, 3, 3, 5, 2, 1, 3, 3, 2, 5],\n",
       " [1, 1, 5, 2, 2, 2, 1, 3, 3, 2, 3, 0, 5, 2, 2, 1, 0, 3, 0, 3],\n",
       " [3, 2, 5, 5, 2, 3, 5, 3, 3, 5, 0, 0, 0, 0, 1, 3, 0, 5, 5, 1],\n",
       " [5, 3, 5, 0, 1, 1, 3, 0, 1, 1, 0, 2, 0, 3, 1, 0, 0, 2, 3, 0]]"
      ]
     },
     "execution_count": 7,
     "metadata": {},
     "output_type": "execute_result"
    }
   ],
   "source": [
    "def generateRandomMoveSet(targetLen):\n",
    "    return [MOVE_TYPES[random.randint(0, 4)] for _ in range(targetLen)]\n",
    "\n",
    "def generatePopulation(popSize, targetLen):\n",
    "    return [generateRandomMoveSet(targetLen) for _ in range(popSize)]\n",
    "generatePopulation(4, 20)"
   ]
  },
  {
   "cell_type": "code",
   "execution_count": 8,
   "metadata": {},
   "outputs": [],
   "source": [
    "def selectChromeForCrossover(priorGen, totalFitness):\n",
    "    '''\n",
    "    Select and return a move-set, based on its fitnesses.\n",
    "    Where a fitness of 0 stands almost no chance of being selected.\n",
    "    The total fitness gets provided, so that it is only calculated once, outside of the method\n",
    "    '''\n",
    "    index = random.randint(0, len(priorGen)-1)\n",
    "    while(True):        \n",
    "        totalFitness -= priorGen[index][1]\n",
    "        if(totalFitness <= 0):\n",
    "            break\n",
    "        index = random.randint(0, len(priorGen)-1)\n",
    "    return priorGen[index][0]"
   ]
  },
  {
   "cell_type": "code",
   "execution_count": 9,
   "metadata": {},
   "outputs": [
    {
     "name": "stdout",
     "output_type": "stream",
     "text": [
      "Average fitness: 500550.5\n"
     ]
    },
    {
     "data": {
      "text/plain": [
       "[[13, 14, 15, 16], [13, 14, 15, 16], [13, 14, 15, 12], [9, 10, 11, 16]]"
      ]
     },
     "execution_count": 9,
     "metadata": {},
     "output_type": "execute_result"
    }
   ],
   "source": [
    "def getNewGeneration(priorGen):\n",
    "    '''\n",
    "    priorGen - A list of tuples, where the tuples are (moves, fitness)\n",
    "    The new generation will have just as many chromosomes, but will\n",
    "    be based on crossovers and mutations of the previous generations (i.e priorGen)\n",
    "    '''\n",
    "    totalFitness = 0\n",
    "    for chrome in priorGen:\n",
    "        totalFitness += chrome[1]\n",
    "    print(\"Average fitness:\", totalFitness/len(priorGen))\n",
    "    ret = []\n",
    "    while(len(ret) < len(priorGen)):\n",
    "        c1 = selectChromeForCrossover(priorGen, totalFitness)\n",
    "        c2 = selectChromeForCrossover(priorGen, totalFitness)\n",
    "        crossed = crossoverMoves(c1, c2)\n",
    "        mutateMoveList(crossed[0])\n",
    "        mutateMoveList(crossed[1])\n",
    "        ret.append(crossed[0])\n",
    "        ret.append(crossed[1])\n",
    "    return ret\n",
    "getNewGeneration([([1,2,3,4],2),\n",
    "                  ([5,6,7,8],200),\n",
    "                  ([9,10,11,12],2000),\n",
    "                  ([13,14,15,16],2000000)])"
   ]
  },
  {
   "cell_type": "code",
   "execution_count": 10,
   "metadata": {},
   "outputs": [
    {
     "name": "stdout",
     "output_type": "stream",
     "text": [
      "Average fitness: 0.012\n",
      "Average fitness: 0.9705\n",
      "Average fitness: 0.982\n",
      "Average fitness: 0.998\n",
      "Average fitness: 1.0805\n",
      "Average fitness: 1.364\n",
      "Average fitness: 2.0235\n",
      "Average fitness: 3.0335\n",
      "Average fitness: 3.6715\n",
      "Average fitness: 3.859\n",
      "Average fitness: 3.8995\n",
      "Average fitness: 3.9325\n",
      "Average fitness: 3.938\n",
      "Average fitness: 3.9315\n",
      "Average fitness: 3.9465\n",
      "Average fitness: 3.9465\n",
      "Average fitness: 3.9405\n",
      "Average fitness: 3.9365\n",
      "Average fitness: 3.933\n",
      "Average fitness: 3.949\n",
      "Average fitness: 3.949\n",
      "Average fitness: 3.957\n",
      "Average fitness: 3.971\n",
      "Average fitness: 3.973\n",
      "Average fitness: 3.954\n",
      "Average fitness: 3.9535\n",
      "Average fitness: 3.965\n",
      "Average fitness: 3.9565\n",
      "Average fitness: 3.9535\n",
      "Average fitness: 3.955\n",
      "DONE\n"
     ]
    }
   ],
   "source": [
    "puzzle1 = [\n",
    "\t[4,1,3],\n",
    "\t[2,8,0],\n",
    "\t[7,6,5]\n",
    "]\n",
    "max_fitness = 0\n",
    "for f in puzzle1:\n",
    "    max_fitness += sum(f)\n",
    "\n",
    "r = 1\n",
    "c = 2\n",
    "max_generations = 30\n",
    "core_puzzle = puzzle1\n",
    "populationSize = 2000\n",
    "currentPopulation = generatePopulation(populationSize, 50)\n",
    "for i in range(max_generations):\n",
    "    fitnesses = []\n",
    "    #evaluation the current generations fitness\n",
    "    for moves in currentPopulation:\n",
    "        result = applyMoves([x[:] for x in core_puzzle], r, c, moves)\n",
    "        fitness = getGridFitness(result[0])\n",
    "        if(fitness == f):\n",
    "            print(\"SOLUTION\", moves)\n",
    "            break\n",
    "        fitnesses.append((moves, fitness))\n",
    "\n",
    "    #create a new generation based on the content of fitnesses\n",
    "    currentPopulation = getNewGeneration(fitnesses)\n",
    "print(\"DONE\")"
   ]
  },
  {
   "cell_type": "code",
   "execution_count": null,
   "metadata": {},
   "outputs": [],
   "source": []
  }
 ],
 "metadata": {
  "kernelspec": {
   "display_name": "Python 3",
   "language": "python",
   "name": "python3"
  },
  "language_info": {
   "codemirror_mode": {
    "name": "ipython",
    "version": 3
   },
   "file_extension": ".py",
   "mimetype": "text/x-python",
   "name": "python",
   "nbconvert_exporter": "python",
   "pygments_lexer": "ipython3",
   "version": "3.6.4"
  }
 },
 "nbformat": 4,
 "nbformat_minor": 2
}
